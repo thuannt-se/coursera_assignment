{
 "cells": [
  {
   "cell_type": "code",
   "execution_count": 3,
   "metadata": {},
   "outputs": [],
   "source": [
    "# PACKAGE\n",
    "# Run this cell first once to load the dependancies.\n",
    "import numpy as np\n",
    "from numpy.linalg import norm, inv\n",
    "from numpy import transpose\n",
    "#from readonly.bearNecessities import *"
   ]
  },
  {
   "cell_type": "code",
   "execution_count": null,
   "metadata": {},
   "outputs": [],
   "source": [
    "# GRADED FUNCTION\n",
    "# You should edit this cell.\n",
    "\n",
    "# In this function, you will return the transformation matrix T,\n",
    "# having built it out of an orthonormal basis set E that you create from Bear's Basis\n",
    "# and a transformation matrix in the mirror's coordinates TE.\n",
    "def build_reflection_matrix(bearBasis) : # The parameter bearBasis is a 2×2 matrix that is passed to the function.\n",
    "    # Use the gsBasis function on bearBasis to get the mirror's orthonormal basis.\n",
    "    B = np.array(bearBasis, dtype=np.float_)\n",
    "    e1 = B[:,0]/ norm(B[:, 0])\n",
    "    e2 = (B[:, 1] - B[:, 1] @ e1 * e1)\n",
    "    e2 = e2 / norm(e2)\n",
    "    E = np.array([e1, e2])\n",
    "    # Write a matrix in component form that performs the mirror's reflection in the mirror's basis.\n",
    "    # Recall, the mirror operates by negating the last component of a vector.\n",
    "    # Replace a,b,c,d with appropriate values\n",
    "    TE = np.array([[1, 0],\n",
    "                   [0, -1]])\n",
    "    # Combine the matrices E and TE to produce your transformation matrix.\n",
    "    T = E @ TE @ inv(E)\n",
    "    # Finally, we return the result. There is no need to change this line.\n",
    "    return T\n"
   ]
  },
  {
   "cell_type": "code",
   "execution_count": null,
   "metadata": {},
   "outputs": [],
   "source": [
    "# First load Pyplot, a graph plotting library.\n",
    "%matplotlib inline\n",
    "import matplotlib.pyplot as plt\n",
    "\n",
    "# This is the matrix of Bear's basis vectors.\n",
    "# (When you've done the exercise once, see what happns when you change Bear's basis.)\n",
    "bearBasis = np.array(\n",
    "    [[1,   -1],\n",
    "     [1.5, 2]])\n",
    "# This line uses your code to build a transformation matrix for us to use.\n",
    "T = build_reflection_matrix(bearBasis)\n",
    "\n",
    "# Bear is drawn as a set of polygons, the vertices of which are placed as a matrix list of column vectors.\n",
    "# We have three of these non-square matrix lists: bear_white_fur, bear_black_fur, and bear_face.\n",
    "# We'll make new lists of vertices by applying the T matrix you've calculated.\n",
    "reflected_bear_white_fur = T @ bear_white_fur\n",
    "reflected_bear_black_fur = T @ bear_black_fur\n",
    "reflected_bear_face = T @ bear_face\n",
    "\n",
    "# This next line runs a code to set up the graphics environment.\n",
    "ax = draw_mirror(bearBasis)\n",
    "\n",
    "# We'll first plot Bear, his white fur, his black fur, and his face.\n",
    "ax.fill(bear_white_fur[0], bear_white_fur[1], color=bear_white, zorder=1)\n",
    "ax.fill(bear_black_fur[0], bear_black_fur[1], color=bear_black, zorder=2)\n",
    "ax.plot(bear_face[0], bear_face[1], color=bear_white, zorder=3)\n",
    "\n",
    "# Next we'll plot Bear's reflection.\n",
    "ax.fill(reflected_bear_white_fur[0], reflected_bear_white_fur[1], color=bear_white, zorder=1)\n",
    "ax.fill(reflected_bear_black_fur[0], reflected_bear_black_fur[1], color=bear_black, zorder=2)\n",
    "ax.plot(reflected_bear_face[0], reflected_bear_face[1], color=bear_white, zorder=3);\n"
   ]
  }
 ],
 "metadata": {
  "kernelspec": {
   "display_name": "Python 3",
   "language": "python",
   "name": "python3"
  },
  "language_info": {
   "codemirror_mode": {
    "name": "ipython",
    "version": 3
   },
   "file_extension": ".py",
   "mimetype": "text/x-python",
   "name": "python",
   "nbconvert_exporter": "python",
   "pygments_lexer": "ipython3",
   "version": "3.8.10"
  }
 },
 "nbformat": 4,
 "nbformat_minor": 4
}
